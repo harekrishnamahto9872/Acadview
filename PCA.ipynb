{
  "nbformat": 4,
  "nbformat_minor": 0,
  "metadata": {
    "colab": {
      "name": "Untitled24.ipynb",
      "version": "0.3.2",
      "provenance": [],
      "include_colab_link": true
    },
    "kernelspec": {
      "name": "python3",
      "display_name": "Python 3"
    }
  },
  "cells": [
    {
      "cell_type": "markdown",
      "metadata": {
        "id": "view-in-github",
        "colab_type": "text"
      },
      "source": [
        "[View in Colaboratory](https://colab.research.google.com/github/harekrishnamahto9872/Acadview/blob/master/PCA.ipynb)"
      ]
    },
    {
      "metadata": {
        "id": "olFhItub4dxA",
        "colab_type": "code",
        "colab": {}
      },
      "cell_type": "code",
      "source": [
        "import numpy as np\n",
        "import pandas as pd"
      ],
      "execution_count": 0,
      "outputs": []
    },
    {
      "metadata": {
        "id": "f_uYpTgE49sw",
        "colab_type": "code",
        "colab": {}
      },
      "cell_type": "code",
      "source": [
        "from sklearn.datasets import load_digits"
      ],
      "execution_count": 0,
      "outputs": []
    },
    {
      "metadata": {
        "id": "1JlArnYOFGZr",
        "colab_type": "text"
      },
      "cell_type": "markdown",
      "source": [
        "##Importing dataset"
      ]
    },
    {
      "metadata": {
        "id": "ZPrdgZkp5BN5",
        "colab_type": "code",
        "colab": {}
      },
      "cell_type": "code",
      "source": [
        "df=load_digits()"
      ],
      "execution_count": 0,
      "outputs": []
    },
    {
      "metadata": {
        "id": "bw1NE-Fx5C3q",
        "colab_type": "code",
        "colab": {}
      },
      "cell_type": "code",
      "source": [
        "x=df.data"
      ],
      "execution_count": 0,
      "outputs": []
    },
    {
      "metadata": {
        "id": "KmKWdIIM5HhM",
        "colab_type": "code",
        "colab": {}
      },
      "cell_type": "code",
      "source": [
        "y=df.target"
      ],
      "execution_count": 0,
      "outputs": []
    },
    {
      "metadata": {
        "id": "5-nxt8sr6cZp",
        "colab_type": "code",
        "colab": {
          "base_uri": "https://localhost:8080/",
          "height": 36
        },
        "outputId": "4be31e8d-d2f1-45be-d872-7b4b67525965"
      },
      "cell_type": "code",
      "source": [
        "x.shape"
      ],
      "execution_count": 88,
      "outputs": [
        {
          "output_type": "execute_result",
          "data": {
            "text/plain": [
              "(1797, 64)"
            ]
          },
          "metadata": {
            "tags": []
          },
          "execution_count": 88
        }
      ]
    },
    {
      "metadata": {
        "id": "lF8xdvYtFJqZ",
        "colab_type": "text"
      },
      "cell_type": "markdown",
      "source": [
        "##Performing standarization on features"
      ]
    },
    {
      "metadata": {
        "id": "GqeBvwsL5MO7",
        "colab_type": "code",
        "colab": {}
      },
      "cell_type": "code",
      "source": [
        "from sklearn.preprocessing import StandardScaler"
      ],
      "execution_count": 0,
      "outputs": []
    },
    {
      "metadata": {
        "id": "yNO_hvTN5Nkh",
        "colab_type": "code",
        "colab": {}
      },
      "cell_type": "code",
      "source": [
        "x=StandardScaler().fit_transform(x)"
      ],
      "execution_count": 0,
      "outputs": []
    },
    {
      "metadata": {
        "id": "3ndQH7xo56PG",
        "colab_type": "code",
        "colab": {}
      },
      "cell_type": "code",
      "source": [
        "from sklearn.decomposition import PCA"
      ],
      "execution_count": 0,
      "outputs": []
    },
    {
      "metadata": {
        "id": "Gswjd4cr6Sdl",
        "colab_type": "code",
        "colab": {}
      },
      "cell_type": "code",
      "source": [
        "pca=PCA(n_components=48)"
      ],
      "execution_count": 0,
      "outputs": []
    },
    {
      "metadata": {
        "id": "NUJblvTAFWiy",
        "colab_type": "text"
      },
      "cell_type": "markdown",
      "source": [
        "##Perform PCA on Features"
      ]
    },
    {
      "metadata": {
        "id": "YNWBpTip6gUn",
        "colab_type": "code",
        "colab": {}
      },
      "cell_type": "code",
      "source": [
        "x=pca.fit_transform(x)"
      ],
      "execution_count": 0,
      "outputs": []
    },
    {
      "metadata": {
        "id": "EG2vm8kJ6mLZ",
        "colab_type": "code",
        "colab": {}
      },
      "cell_type": "code",
      "source": [
        "new_df=pd.DataFrame(data=x,columns=range(1,49))"
      ],
      "execution_count": 0,
      "outputs": []
    },
    {
      "metadata": {
        "id": "1QLTIKBD6vBp",
        "colab_type": "code",
        "colab": {
          "base_uri": "https://localhost:8080/",
          "height": 36
        },
        "outputId": "c647cbc5-f9c8-40a5-b2e8-6abff7307457"
      },
      "cell_type": "code",
      "source": [
        "type(new_df)"
      ],
      "execution_count": 95,
      "outputs": [
        {
          "output_type": "execute_result",
          "data": {
            "text/plain": [
              "pandas.core.frame.DataFrame"
            ]
          },
          "metadata": {
            "tags": []
          },
          "execution_count": 95
        }
      ]
    },
    {
      "metadata": {
        "id": "00CQE7PF6zWV",
        "colab_type": "code",
        "colab": {}
      },
      "cell_type": "code",
      "source": [
        "y=pd.DataFrame(data=y)\n"
      ],
      "execution_count": 0,
      "outputs": []
    },
    {
      "metadata": {
        "id": "S-cVkX077RZA",
        "colab_type": "code",
        "colab": {
          "base_uri": "https://localhost:8080/",
          "height": 206
        },
        "outputId": "cbd6dfcc-b84b-4e54-a912-857b089a780c"
      },
      "cell_type": "code",
      "source": [
        "y.head()"
      ],
      "execution_count": 98,
      "outputs": [
        {
          "output_type": "execute_result",
          "data": {
            "text/html": [
              "<div>\n",
              "<style scoped>\n",
              "    .dataframe tbody tr th:only-of-type {\n",
              "        vertical-align: middle;\n",
              "    }\n",
              "\n",
              "    .dataframe tbody tr th {\n",
              "        vertical-align: top;\n",
              "    }\n",
              "\n",
              "    .dataframe thead th {\n",
              "        text-align: right;\n",
              "    }\n",
              "</style>\n",
              "<table border=\"1\" class=\"dataframe\">\n",
              "  <thead>\n",
              "    <tr style=\"text-align: right;\">\n",
              "      <th></th>\n",
              "      <th>0</th>\n",
              "    </tr>\n",
              "  </thead>\n",
              "  <tbody>\n",
              "    <tr>\n",
              "      <th>0</th>\n",
              "      <td>0</td>\n",
              "    </tr>\n",
              "    <tr>\n",
              "      <th>1</th>\n",
              "      <td>1</td>\n",
              "    </tr>\n",
              "    <tr>\n",
              "      <th>2</th>\n",
              "      <td>2</td>\n",
              "    </tr>\n",
              "    <tr>\n",
              "      <th>3</th>\n",
              "      <td>3</td>\n",
              "    </tr>\n",
              "    <tr>\n",
              "      <th>4</th>\n",
              "      <td>4</td>\n",
              "    </tr>\n",
              "  </tbody>\n",
              "</table>\n",
              "</div>"
            ],
            "text/plain": [
              "   0\n",
              "0  0\n",
              "1  1\n",
              "2  2\n",
              "3  3\n",
              "4  4"
            ]
          },
          "metadata": {
            "tags": []
          },
          "execution_count": 98
        }
      ]
    },
    {
      "metadata": {
        "id": "z02BAyBR7Xpu",
        "colab_type": "code",
        "colab": {}
      },
      "cell_type": "code",
      "source": [
        "new_df=pd.concat([new_df,y],axis=1)"
      ],
      "execution_count": 0,
      "outputs": []
    },
    {
      "metadata": {
        "id": "ENvoC7OB7lEy",
        "colab_type": "code",
        "colab": {
          "base_uri": "https://localhost:8080/",
          "height": 256
        },
        "outputId": "716cf554-05da-4957-f38e-d755f26d47e2"
      },
      "cell_type": "code",
      "source": [
        "new_df.head()"
      ],
      "execution_count": 100,
      "outputs": [
        {
          "output_type": "execute_result",
          "data": {
            "text/html": [
              "<div>\n",
              "<style scoped>\n",
              "    .dataframe tbody tr th:only-of-type {\n",
              "        vertical-align: middle;\n",
              "    }\n",
              "\n",
              "    .dataframe tbody tr th {\n",
              "        vertical-align: top;\n",
              "    }\n",
              "\n",
              "    .dataframe thead th {\n",
              "        text-align: right;\n",
              "    }\n",
              "</style>\n",
              "<table border=\"1\" class=\"dataframe\">\n",
              "  <thead>\n",
              "    <tr style=\"text-align: right;\">\n",
              "      <th></th>\n",
              "      <th>1</th>\n",
              "      <th>2</th>\n",
              "      <th>3</th>\n",
              "      <th>4</th>\n",
              "      <th>5</th>\n",
              "      <th>6</th>\n",
              "      <th>7</th>\n",
              "      <th>8</th>\n",
              "      <th>9</th>\n",
              "      <th>10</th>\n",
              "      <th>...</th>\n",
              "      <th>40</th>\n",
              "      <th>41</th>\n",
              "      <th>42</th>\n",
              "      <th>43</th>\n",
              "      <th>44</th>\n",
              "      <th>45</th>\n",
              "      <th>46</th>\n",
              "      <th>47</th>\n",
              "      <th>48</th>\n",
              "      <th>0</th>\n",
              "    </tr>\n",
              "  </thead>\n",
              "  <tbody>\n",
              "    <tr>\n",
              "      <th>0</th>\n",
              "      <td>1.914214</td>\n",
              "      <td>-0.954502</td>\n",
              "      <td>-3.946035</td>\n",
              "      <td>2.028723</td>\n",
              "      <td>-0.267173</td>\n",
              "      <td>0.530327</td>\n",
              "      <td>-1.415321</td>\n",
              "      <td>1.496062</td>\n",
              "      <td>0.124915</td>\n",
              "      <td>-0.822246</td>\n",
              "      <td>...</td>\n",
              "      <td>0.320838</td>\n",
              "      <td>0.013821</td>\n",
              "      <td>-0.046470</td>\n",
              "      <td>-0.286032</td>\n",
              "      <td>0.484896</td>\n",
              "      <td>0.428990</td>\n",
              "      <td>-0.147949</td>\n",
              "      <td>0.097244</td>\n",
              "      <td>0.421569</td>\n",
              "      <td>0</td>\n",
              "    </tr>\n",
              "    <tr>\n",
              "      <th>1</th>\n",
              "      <td>0.588980</td>\n",
              "      <td>0.924636</td>\n",
              "      <td>3.924755</td>\n",
              "      <td>-1.779850</td>\n",
              "      <td>-0.993430</td>\n",
              "      <td>-0.675652</td>\n",
              "      <td>1.878565</td>\n",
              "      <td>0.556335</td>\n",
              "      <td>1.079877</td>\n",
              "      <td>0.087452</td>\n",
              "      <td>...</td>\n",
              "      <td>-0.488790</td>\n",
              "      <td>-0.002525</td>\n",
              "      <td>0.200627</td>\n",
              "      <td>-0.252534</td>\n",
              "      <td>0.691117</td>\n",
              "      <td>-0.094202</td>\n",
              "      <td>0.017594</td>\n",
              "      <td>-0.530220</td>\n",
              "      <td>-0.141202</td>\n",
              "      <td>1</td>\n",
              "    </tr>\n",
              "    <tr>\n",
              "      <th>2</th>\n",
              "      <td>1.302039</td>\n",
              "      <td>-0.317189</td>\n",
              "      <td>3.023333</td>\n",
              "      <td>-2.043376</td>\n",
              "      <td>-2.081155</td>\n",
              "      <td>0.935121</td>\n",
              "      <td>-1.296201</td>\n",
              "      <td>1.156161</td>\n",
              "      <td>0.785606</td>\n",
              "      <td>-1.099207</td>\n",
              "      <td>...</td>\n",
              "      <td>0.544586</td>\n",
              "      <td>-0.343117</td>\n",
              "      <td>-0.462089</td>\n",
              "      <td>0.046102</td>\n",
              "      <td>0.558616</td>\n",
              "      <td>-1.069433</td>\n",
              "      <td>-0.642099</td>\n",
              "      <td>-0.570910</td>\n",
              "      <td>0.348749</td>\n",
              "      <td>2</td>\n",
              "    </tr>\n",
              "    <tr>\n",
              "      <th>3</th>\n",
              "      <td>-3.020770</td>\n",
              "      <td>-0.868772</td>\n",
              "      <td>-0.801744</td>\n",
              "      <td>-2.187039</td>\n",
              "      <td>-0.556813</td>\n",
              "      <td>0.727124</td>\n",
              "      <td>0.959765</td>\n",
              "      <td>-1.382638</td>\n",
              "      <td>0.259075</td>\n",
              "      <td>0.744554</td>\n",
              "      <td>...</td>\n",
              "      <td>-0.048659</td>\n",
              "      <td>0.502720</td>\n",
              "      <td>-0.596673</td>\n",
              "      <td>0.624257</td>\n",
              "      <td>-0.610757</td>\n",
              "      <td>-0.690048</td>\n",
              "      <td>0.433377</td>\n",
              "      <td>-0.182024</td>\n",
              "      <td>0.018477</td>\n",
              "      <td>3</td>\n",
              "    </tr>\n",
              "    <tr>\n",
              "      <th>4</th>\n",
              "      <td>4.528949</td>\n",
              "      <td>-1.093480</td>\n",
              "      <td>0.973121</td>\n",
              "      <td>-1.419510</td>\n",
              "      <td>-1.715106</td>\n",
              "      <td>1.431592</td>\n",
              "      <td>1.073649</td>\n",
              "      <td>-0.968240</td>\n",
              "      <td>-1.660216</td>\n",
              "      <td>1.174593</td>\n",
              "      <td>...</td>\n",
              "      <td>0.183594</td>\n",
              "      <td>-0.185453</td>\n",
              "      <td>1.111456</td>\n",
              "      <td>-0.265309</td>\n",
              "      <td>-0.075829</td>\n",
              "      <td>0.298060</td>\n",
              "      <td>0.830744</td>\n",
              "      <td>0.851325</td>\n",
              "      <td>-0.344422</td>\n",
              "      <td>4</td>\n",
              "    </tr>\n",
              "  </tbody>\n",
              "</table>\n",
              "<p>5 rows × 49 columns</p>\n",
              "</div>"
            ],
            "text/plain": [
              "         1         2         3         4         5         6         7   \\\n",
              "0  1.914214 -0.954502 -3.946035  2.028723 -0.267173  0.530327 -1.415321   \n",
              "1  0.588980  0.924636  3.924755 -1.779850 -0.993430 -0.675652  1.878565   \n",
              "2  1.302039 -0.317189  3.023333 -2.043376 -2.081155  0.935121 -1.296201   \n",
              "3 -3.020770 -0.868772 -0.801744 -2.187039 -0.556813  0.727124  0.959765   \n",
              "4  4.528949 -1.093480  0.973121 -1.419510 -1.715106  1.431592  1.073649   \n",
              "\n",
              "         8         9         10 ...        40        41        42        43  \\\n",
              "0  1.496062  0.124915 -0.822246 ...  0.320838  0.013821 -0.046470 -0.286032   \n",
              "1  0.556335  1.079877  0.087452 ... -0.488790 -0.002525  0.200627 -0.252534   \n",
              "2  1.156161  0.785606 -1.099207 ...  0.544586 -0.343117 -0.462089  0.046102   \n",
              "3 -1.382638  0.259075  0.744554 ... -0.048659  0.502720 -0.596673  0.624257   \n",
              "4 -0.968240 -1.660216  1.174593 ...  0.183594 -0.185453  1.111456 -0.265309   \n",
              "\n",
              "         44        45        46        47        48  0   \n",
              "0  0.484896  0.428990 -0.147949  0.097244  0.421569   0  \n",
              "1  0.691117 -0.094202  0.017594 -0.530220 -0.141202   1  \n",
              "2  0.558616 -1.069433 -0.642099 -0.570910  0.348749   2  \n",
              "3 -0.610757 -0.690048  0.433377 -0.182024  0.018477   3  \n",
              "4 -0.075829  0.298060  0.830744  0.851325 -0.344422   4  \n",
              "\n",
              "[5 rows x 49 columns]"
            ]
          },
          "metadata": {
            "tags": []
          },
          "execution_count": 100
        }
      ]
    },
    {
      "metadata": {
        "id": "sm-pY2B5Flj6",
        "colab_type": "text"
      },
      "cell_type": "markdown",
      "source": [
        "##Splitting dataset into X and Y"
      ]
    },
    {
      "metadata": {
        "id": "o_ITuZuZ95bJ",
        "colab_type": "code",
        "colab": {}
      },
      "cell_type": "code",
      "source": [
        "x=new_df.drop([0],axis=1)\n",
        "y=new_df[0]"
      ],
      "execution_count": 0,
      "outputs": []
    },
    {
      "metadata": {
        "id": "BKvN8g9iFs60",
        "colab_type": "text"
      },
      "cell_type": "markdown",
      "source": [
        "##Splitting dataset into train and test"
      ]
    },
    {
      "metadata": {
        "id": "9cvu5Hhu7sTx",
        "colab_type": "code",
        "colab": {}
      },
      "cell_type": "code",
      "source": [
        "from sklearn.model_selection import train_test_split"
      ],
      "execution_count": 0,
      "outputs": []
    },
    {
      "metadata": {
        "id": "_nVamsz379Rh",
        "colab_type": "code",
        "colab": {}
      },
      "cell_type": "code",
      "source": [
        "x_train,x_test,y_train,y_test=train_test_split(x,y,test_size=0.2)"
      ],
      "execution_count": 0,
      "outputs": []
    },
    {
      "metadata": {
        "id": "dpJn5Fe4-LXL",
        "colab_type": "code",
        "colab": {}
      },
      "cell_type": "code",
      "source": [
        "from sklearn.linear_model import LogisticRegression"
      ],
      "execution_count": 0,
      "outputs": []
    },
    {
      "metadata": {
        "id": "rB0bqNwF-WpV",
        "colab_type": "code",
        "colab": {}
      },
      "cell_type": "code",
      "source": [
        "obj=LogisticRegression()"
      ],
      "execution_count": 0,
      "outputs": []
    },
    {
      "metadata": {
        "id": "35cgJu3O-ZM5",
        "colab_type": "code",
        "colab": {
          "base_uri": "https://localhost:8080/",
          "height": 36
        },
        "outputId": "96f94590-243e-41ce-8c41-5e0bbb2d885f"
      },
      "cell_type": "code",
      "source": [
        "x_train.shape"
      ],
      "execution_count": 106,
      "outputs": [
        {
          "output_type": "execute_result",
          "data": {
            "text/plain": [
              "(1437, 48)"
            ]
          },
          "metadata": {
            "tags": []
          },
          "execution_count": 106
        }
      ]
    },
    {
      "metadata": {
        "id": "HXOkxZwi-cEW",
        "colab_type": "code",
        "colab": {
          "base_uri": "https://localhost:8080/",
          "height": 36
        },
        "outputId": "135a75dd-6734-446b-827f-59b533a2ab4f"
      },
      "cell_type": "code",
      "source": [
        "y_train.shape"
      ],
      "execution_count": 107,
      "outputs": [
        {
          "output_type": "execute_result",
          "data": {
            "text/plain": [
              "(1437,)"
            ]
          },
          "metadata": {
            "tags": []
          },
          "execution_count": 107
        }
      ]
    },
    {
      "metadata": {
        "id": "gFyIabquFx_e",
        "colab_type": "text"
      },
      "cell_type": "markdown",
      "source": [
        "##Training our model"
      ]
    },
    {
      "metadata": {
        "id": "1jcmrykS-kOa",
        "colab_type": "code",
        "colab": {
          "base_uri": "https://localhost:8080/",
          "height": 92
        },
        "outputId": "349c5870-1bf1-4eb0-f3b0-0932e27614ca"
      },
      "cell_type": "code",
      "source": [
        "obj.fit(x_train,y_train)"
      ],
      "execution_count": 108,
      "outputs": [
        {
          "output_type": "execute_result",
          "data": {
            "text/plain": [
              "LogisticRegression(C=1.0, class_weight=None, dual=False, fit_intercept=True,\n",
              "          intercept_scaling=1, max_iter=100, multi_class='ovr', n_jobs=1,\n",
              "          penalty='l2', random_state=None, solver='liblinear', tol=0.0001,\n",
              "          verbose=0, warm_start=False)"
            ]
          },
          "metadata": {
            "tags": []
          },
          "execution_count": 108
        }
      ]
    },
    {
      "metadata": {
        "id": "SswfOTAnEP1D",
        "colab_type": "code",
        "colab": {}
      },
      "cell_type": "code",
      "source": [
        "predicted=obj.predict(x_test)"
      ],
      "execution_count": 0,
      "outputs": []
    },
    {
      "metadata": {
        "id": "_wPQ7vLNET0i",
        "colab_type": "code",
        "colab": {}
      },
      "cell_type": "code",
      "source": [
        "from sklearn.metrics import accuracy_score,confusion_matrix,classification_report"
      ],
      "execution_count": 0,
      "outputs": []
    },
    {
      "metadata": {
        "id": "HtOi0FjjF2Wd",
        "colab_type": "text"
      },
      "cell_type": "markdown",
      "source": [
        "##Evaluation of our model"
      ]
    },
    {
      "metadata": {
        "id": "OorKP7yLEdiG",
        "colab_type": "code",
        "colab": {
          "base_uri": "https://localhost:8080/",
          "height": 36
        },
        "outputId": "30abd673-2a16-42ea-df9c-c88a2840e6bc"
      },
      "cell_type": "code",
      "source": [
        "print(accuracy_score(y_test,predicted))"
      ],
      "execution_count": 112,
      "outputs": [
        {
          "output_type": "stream",
          "text": [
            "0.9638888888888889\n"
          ],
          "name": "stdout"
        }
      ]
    },
    {
      "metadata": {
        "id": "j0ixb0jDEfzw",
        "colab_type": "code",
        "colab": {
          "base_uri": "https://localhost:8080/",
          "height": 206
        },
        "outputId": "134a82d4-5d91-4636-d65e-592730b2676c"
      },
      "cell_type": "code",
      "source": [
        "print(confusion_matrix(y_test,predicted))"
      ],
      "execution_count": 113,
      "outputs": [
        {
          "output_type": "stream",
          "text": [
            "[[27  0  0  0  0  0  0  0  0  0]\n",
            " [ 0 36  1  0  0  0  0  0  0  0]\n",
            " [ 0  0 44  0  0  0  0  0  0  0]\n",
            " [ 0  0  0 33  0  0  0  1  0  0]\n",
            " [ 0  0  0  0 33  0  0  0  0  2]\n",
            " [ 1  0  0  0  0 42  0  0  0  2]\n",
            " [ 0  0  0  0  0  0 36  0  0  0]\n",
            " [ 0  0  0  0  0  0  0 36  0  1]\n",
            " [ 0  1  0  0  0  0  1  0 29  0]\n",
            " [ 0  1  0  0  0  0  0  0  2 31]]\n"
          ],
          "name": "stdout"
        }
      ]
    },
    {
      "metadata": {
        "id": "GP8GzM88EoMJ",
        "colab_type": "code",
        "colab": {
          "base_uri": "https://localhost:8080/",
          "height": 300
        },
        "outputId": "ffcd5ee9-4d3a-46c6-b5be-be87a66fd96f"
      },
      "cell_type": "code",
      "source": [
        "print(classification_report(y_test,predicted))"
      ],
      "execution_count": 114,
      "outputs": [
        {
          "output_type": "stream",
          "text": [
            "             precision    recall  f1-score   support\n",
            "\n",
            "          0       0.96      1.00      0.98        27\n",
            "          1       0.95      0.97      0.96        37\n",
            "          2       0.98      1.00      0.99        44\n",
            "          3       1.00      0.97      0.99        34\n",
            "          4       1.00      0.94      0.97        35\n",
            "          5       1.00      0.93      0.97        45\n",
            "          6       0.97      1.00      0.99        36\n",
            "          7       0.97      0.97      0.97        37\n",
            "          8       0.94      0.94      0.94        31\n",
            "          9       0.86      0.91      0.89        34\n",
            "\n",
            "avg / total       0.97      0.96      0.96       360\n",
            "\n"
          ],
          "name": "stdout"
        }
      ]
    },
    {
      "metadata": {
        "id": "FS-MDuOKEsVp",
        "colab_type": "code",
        "colab": {}
      },
      "cell_type": "code",
      "source": [
        ""
      ],
      "execution_count": 0,
      "outputs": []
    }
  ]
}