{
  "nbformat": 4,
  "nbformat_minor": 0,
  "metadata": {
    "colab": {
      "name": "Untitled2.ipynb",
      "version": "0.3.2",
      "provenance": []
    },
    "kernelspec": {
      "name": "python3",
      "display_name": "Python 3"
    }
  },
  "cells": [
    {
      "cell_type": "markdown",
      "metadata": {
        "id": "view-in-github",
        "colab_type": "text"
      },
      "source": [
        "[View in Colaboratory](https://colab.research.google.com/github/harekrishnamahto9872/Acadview/blob/master/Assignment_1.ipynb)"
      ]
    },
    {
      "metadata": {
        "id": "5zrN5DW9W39u",
        "colab_type": "code",
        "colab": {
          "base_uri": "https://localhost:8080/",
          "height": 55
        },
        "outputId": "32f720ac-7b67-4477-c873-d2a29fc7221d"
      },
      "cell_type": "code",
      "source": [
        "#ques 1\n",
        "x=[1,2,3,4,5,6,7,8,9,10,11,12,13,14,15,16]\n",
        "print(x[7:12])\n",
        "print(x[11:6:-1])"
      ],
      "execution_count": 5,
      "outputs": [
        {
          "output_type": "stream",
          "text": [
            "[8, 9, 10, 11, 12]\n",
            "[12, 11, 10, 9, 8]\n"
          ],
          "name": "stdout"
        }
      ]
    },
    {
      "metadata": {
        "id": "Q1Av3DaXXOzC",
        "colab_type": "code",
        "colab": {
          "base_uri": "https://localhost:8080/",
          "height": 36
        },
        "outputId": "83cf7582-c56d-4fba-a4a5-e8da6ca8b0b7"
      },
      "cell_type": "code",
      "source": [
        "#Ques 2\n",
        "x=[1,2,3,4,5,6,7,8,9,10,11,12,13,14,15,16]\n",
        "print(x[1::2])"
      ],
      "execution_count": 8,
      "outputs": [
        {
          "output_type": "stream",
          "text": [
            "[2, 4, 6, 8, 10, 12, 14, 16]\n"
          ],
          "name": "stdout"
        }
      ]
    },
    {
      "metadata": {
        "id": "ve9hEt3SYRKH",
        "colab_type": "code",
        "colab": {
          "base_uri": "https://localhost:8080/",
          "height": 36
        },
        "outputId": "d5fa33e5-b500-4f5f-a05b-761409599691"
      },
      "cell_type": "code",
      "source": [
        "#Ques 3\n",
        "x=[1,2,3,4,5,6,7,8,9,10,11,12,13,14,15,16]\n",
        "print(x[::4])"
      ],
      "execution_count": 10,
      "outputs": [
        {
          "output_type": "stream",
          "text": [
            "[1, 5, 9, 13]\n"
          ],
          "name": "stdout"
        }
      ]
    },
    {
      "metadata": {
        "id": "s7L4boICYpAl",
        "colab_type": "code",
        "colab": {}
      },
      "cell_type": "code",
      "source": [
        ""
      ],
      "execution_count": 0,
      "outputs": []
    }
  ]
}