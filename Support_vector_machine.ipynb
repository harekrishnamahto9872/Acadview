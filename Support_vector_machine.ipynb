{
  "nbformat": 4,
  "nbformat_minor": 0,
  "metadata": {
    "colab": {
      "name": "Untitled21.ipynb",
      "version": "0.3.2",
      "provenance": [],
      "include_colab_link": true
    },
    "kernelspec": {
      "name": "python3",
      "display_name": "Python 3"
    }
  },
  "cells": [
    {
      "cell_type": "markdown",
      "metadata": {
        "id": "view-in-github",
        "colab_type": "text"
      },
      "source": [
        "[View in Colaboratory](https://colab.research.google.com/github/harekrishnamahto9872/Acadview/blob/master/Support_vector_machine.ipynb)"
      ]
    },
    {
      "metadata": {
        "id": "aEHMq2_Y-0KC",
        "colab_type": "code",
        "colab": {}
      },
      "cell_type": "code",
      "source": [
        "import numpy as np\n",
        "import pandas as pd"
      ],
      "execution_count": 0,
      "outputs": []
    },
    {
      "metadata": {
        "id": "uQwvN6r4-4mu",
        "colab_type": "code",
        "colab": {}
      },
      "cell_type": "code",
      "source": [
        "from sklearn.datasets import load_digits"
      ],
      "execution_count": 0,
      "outputs": []
    },
    {
      "metadata": {
        "id": "R7eJ9-q4B5rM",
        "colab_type": "text"
      },
      "cell_type": "markdown",
      "source": [
        "##Importing dataset"
      ]
    },
    {
      "metadata": {
        "id": "K42-EFH4_Ol4",
        "colab_type": "code",
        "colab": {}
      },
      "cell_type": "code",
      "source": [
        "df=load_digits()"
      ],
      "execution_count": 0,
      "outputs": []
    },
    {
      "metadata": {
        "id": "SWv4RVzT_Q1E",
        "colab_type": "code",
        "colab": {
          "base_uri": "https://localhost:8080/",
          "height": 149
        },
        "outputId": "f59d5985-84f0-4c24-a4f8-08de07d62dc3"
      },
      "cell_type": "code",
      "source": [
        "df.data"
      ],
      "execution_count": 4,
      "outputs": [
        {
          "output_type": "execute_result",
          "data": {
            "text/plain": [
              "array([[ 0.,  0.,  5., ...,  0.,  0.,  0.],\n",
              "       [ 0.,  0.,  0., ..., 10.,  0.,  0.],\n",
              "       [ 0.,  0.,  0., ..., 16.,  9.,  0.],\n",
              "       ...,\n",
              "       [ 0.,  0.,  1., ...,  6.,  0.,  0.],\n",
              "       [ 0.,  0.,  2., ..., 12.,  0.,  0.],\n",
              "       [ 0.,  0., 10., ..., 12.,  1.,  0.]])"
            ]
          },
          "metadata": {
            "tags": []
          },
          "execution_count": 4
        }
      ]
    },
    {
      "metadata": {
        "id": "U_Bahdu4_cbe",
        "colab_type": "code",
        "colab": {
          "base_uri": "https://localhost:8080/",
          "height": 36
        },
        "outputId": "3f5c3b62-11d6-4446-abdd-1d22fc416379"
      },
      "cell_type": "code",
      "source": [
        "df.target"
      ],
      "execution_count": 5,
      "outputs": [
        {
          "output_type": "execute_result",
          "data": {
            "text/plain": [
              "array([0, 1, 2, ..., 8, 9, 8])"
            ]
          },
          "metadata": {
            "tags": []
          },
          "execution_count": 5
        }
      ]
    },
    {
      "metadata": {
        "id": "YnNzMila_d9x",
        "colab_type": "code",
        "colab": {
          "base_uri": "https://localhost:8080/",
          "height": 36
        },
        "outputId": "7b82665b-d3b6-4f4e-d044-0b7eee25a3a9"
      },
      "cell_type": "code",
      "source": [
        "df.data.shape"
      ],
      "execution_count": 7,
      "outputs": [
        {
          "output_type": "execute_result",
          "data": {
            "text/plain": [
              "(1797, 64)"
            ]
          },
          "metadata": {
            "tags": []
          },
          "execution_count": 7
        }
      ]
    },
    {
      "metadata": {
        "id": "RpeyiLnd_et9",
        "colab_type": "code",
        "colab": {
          "base_uri": "https://localhost:8080/",
          "height": 36
        },
        "outputId": "2cdbd08b-3778-4a14-cb4e-f746d07af397"
      },
      "cell_type": "code",
      "source": [
        "df.target.shape"
      ],
      "execution_count": 8,
      "outputs": [
        {
          "output_type": "execute_result",
          "data": {
            "text/plain": [
              "(1797,)"
            ]
          },
          "metadata": {
            "tags": []
          },
          "execution_count": 8
        }
      ]
    },
    {
      "metadata": {
        "id": "Oo-_i2ve_irS",
        "colab_type": "code",
        "colab": {}
      },
      "cell_type": "code",
      "source": [
        "from sklearn.model_selection import train_test_split"
      ],
      "execution_count": 0,
      "outputs": []
    },
    {
      "metadata": {
        "id": "rjTBSmtrB-70",
        "colab_type": "text"
      },
      "cell_type": "markdown",
      "source": [
        "##Storing values in X and Y"
      ]
    },
    {
      "metadata": {
        "id": "3lRhIIbh_oqJ",
        "colab_type": "code",
        "colab": {}
      },
      "cell_type": "code",
      "source": [
        "x=df.data"
      ],
      "execution_count": 0,
      "outputs": []
    },
    {
      "metadata": {
        "id": "qJ4ztdPf_rO1",
        "colab_type": "code",
        "colab": {}
      },
      "cell_type": "code",
      "source": [
        "y=df.target"
      ],
      "execution_count": 0,
      "outputs": []
    },
    {
      "metadata": {
        "id": "X8D9D17x_shl",
        "colab_type": "code",
        "colab": {}
      },
      "cell_type": "code",
      "source": [
        "x_train,x_test,y_train,y_test=train_test_split(x,y,test_size=0.3)"
      ],
      "execution_count": 0,
      "outputs": []
    },
    {
      "metadata": {
        "id": "p5uUcQnL_z8-",
        "colab_type": "code",
        "colab": {}
      },
      "cell_type": "code",
      "source": [
        "from sklearn.svm import  SVC\n",
        "from sklearn.metrics import confusion_matrix,classification_report"
      ],
      "execution_count": 0,
      "outputs": []
    },
    {
      "metadata": {
        "id": "OSvLC8LwCEEI",
        "colab_type": "text"
      },
      "cell_type": "markdown",
      "source": [
        "##Creating an instance of SVC classifier"
      ]
    },
    {
      "metadata": {
        "id": "2cPVrFm8COwa",
        "colab_type": "text"
      },
      "cell_type": "markdown",
      "source": [
        "##Linear  Kernel"
      ]
    },
    {
      "metadata": {
        "id": "-OLkBhSZ_3Wo",
        "colab_type": "code",
        "colab": {}
      },
      "cell_type": "code",
      "source": [
        "obj=SVC(kernel='linear')"
      ],
      "execution_count": 0,
      "outputs": []
    },
    {
      "metadata": {
        "id": "o5OUzDZbCKyU",
        "colab_type": "text"
      },
      "cell_type": "markdown",
      "source": [
        ""
      ]
    },
    {
      "metadata": {
        "id": "QwkgVTPzAORV",
        "colab_type": "code",
        "colab": {
          "base_uri": "https://localhost:8080/",
          "height": 92
        },
        "outputId": "6c3cec68-2b74-4c8a-9486-099f4a3837b7"
      },
      "cell_type": "code",
      "source": [
        "obj.fit(x_train,y_train)"
      ],
      "execution_count": 16,
      "outputs": [
        {
          "output_type": "execute_result",
          "data": {
            "text/plain": [
              "SVC(C=1.0, cache_size=200, class_weight=None, coef0=0.0,\n",
              "  decision_function_shape='ovr', degree=3, gamma='auto', kernel='linear',\n",
              "  max_iter=-1, probability=False, random_state=None, shrinking=True,\n",
              "  tol=0.001, verbose=False)"
            ]
          },
          "metadata": {
            "tags": []
          },
          "execution_count": 16
        }
      ]
    },
    {
      "metadata": {
        "id": "iBbs47LAAQxc",
        "colab_type": "code",
        "colab": {}
      },
      "cell_type": "code",
      "source": [
        "predicted=obj.predict(x_test)"
      ],
      "execution_count": 0,
      "outputs": []
    },
    {
      "metadata": {
        "id": "cX4heRuaAUel",
        "colab_type": "code",
        "colab": {
          "base_uri": "https://localhost:8080/",
          "height": 206
        },
        "outputId": "84767438-6257-474b-ea8c-3cb48ba7ff1f"
      },
      "cell_type": "code",
      "source": [
        "print(confusion_matrix(y_test,predicted))"
      ],
      "execution_count": 20,
      "outputs": [
        {
          "output_type": "stream",
          "text": [
            "[[49  0  0  0  0  0  0  0  0  0]\n",
            " [ 0 52  0  0  0  0  0  0  1  0]\n",
            " [ 0  0 60  0  0  0  0  0  0  0]\n",
            " [ 0  0  0 61  0  0  0  1  0  0]\n",
            " [ 0  1  0  0 58  0  0  0  0  0]\n",
            " [ 0  0  0  0  0 53  1  0  0  0]\n",
            " [ 1  0  0  0  0  0 43  0  0  0]\n",
            " [ 0  0  0  0  0  0  0 42  0  0]\n",
            " [ 0  1  0  0  0  1  0  0 53  0]\n",
            " [ 0  1  0  1  0  0  0  1  1 58]]\n"
          ],
          "name": "stdout"
        }
      ]
    },
    {
      "metadata": {
        "id": "lnmzvtlXAqRq",
        "colab_type": "code",
        "colab": {
          "base_uri": "https://localhost:8080/",
          "height": 300
        },
        "outputId": "ed870cfe-3123-456f-d7fa-7dab9927ec57"
      },
      "cell_type": "code",
      "source": [
        "print(classification_report(y_test,predicted))"
      ],
      "execution_count": 21,
      "outputs": [
        {
          "output_type": "stream",
          "text": [
            "             precision    recall  f1-score   support\n",
            "\n",
            "          0       0.98      1.00      0.99        49\n",
            "          1       0.95      0.98      0.96        53\n",
            "          2       1.00      1.00      1.00        60\n",
            "          3       0.98      0.98      0.98        62\n",
            "          4       1.00      0.98      0.99        59\n",
            "          5       0.98      0.98      0.98        54\n",
            "          6       0.98      0.98      0.98        44\n",
            "          7       0.95      1.00      0.98        42\n",
            "          8       0.96      0.96      0.96        55\n",
            "          9       1.00      0.94      0.97        62\n",
            "\n",
            "avg / total       0.98      0.98      0.98       540\n",
            "\n"
          ],
          "name": "stdout"
        }
      ]
    },
    {
      "metadata": {
        "id": "3kSTEktkCR0m",
        "colab_type": "text"
      },
      "cell_type": "markdown",
      "source": [
        "##Polynomial Kernel"
      ]
    },
    {
      "metadata": {
        "id": "R1M7WTCTAwRY",
        "colab_type": "code",
        "colab": {}
      },
      "cell_type": "code",
      "source": [
        "obj=SVC(kernel='poly')"
      ],
      "execution_count": 0,
      "outputs": []
    },
    {
      "metadata": {
        "id": "vBVyXKyDA5Am",
        "colab_type": "code",
        "colab": {
          "base_uri": "https://localhost:8080/",
          "height": 92
        },
        "outputId": "df501aec-997f-40b1-906a-5fb27e39a2d4"
      },
      "cell_type": "code",
      "source": [
        "obj.fit(x_train,y_train)"
      ],
      "execution_count": 23,
      "outputs": [
        {
          "output_type": "execute_result",
          "data": {
            "text/plain": [
              "SVC(C=1.0, cache_size=200, class_weight=None, coef0=0.0,\n",
              "  decision_function_shape='ovr', degree=3, gamma='auto', kernel='poly',\n",
              "  max_iter=-1, probability=False, random_state=None, shrinking=True,\n",
              "  tol=0.001, verbose=False)"
            ]
          },
          "metadata": {
            "tags": []
          },
          "execution_count": 23
        }
      ]
    },
    {
      "metadata": {
        "id": "yKYs_Iw4A7YP",
        "colab_type": "code",
        "colab": {}
      },
      "cell_type": "code",
      "source": [
        "predicted=obj.predict(x_test)"
      ],
      "execution_count": 0,
      "outputs": []
    },
    {
      "metadata": {
        "id": "ILL093XFA-NY",
        "colab_type": "code",
        "colab": {
          "base_uri": "https://localhost:8080/",
          "height": 206
        },
        "outputId": "8064abfc-70ab-4177-f473-c466b0cf1c94"
      },
      "cell_type": "code",
      "source": [
        "print(confusion_matrix(y_test,predicted))"
      ],
      "execution_count": 25,
      "outputs": [
        {
          "output_type": "stream",
          "text": [
            "[[49  0  0  0  0  0  0  0  0  0]\n",
            " [ 0 53  0  0  0  0  0  0  0  0]\n",
            " [ 0  0 60  0  0  0  0  0  0  0]\n",
            " [ 0  0  0 61  0  0  0  1  0  0]\n",
            " [ 0  0  0  0 59  0  0  0  0  0]\n",
            " [ 0  0  0  0  0 53  1  0  0  0]\n",
            " [ 0  0  0  0  0  0 43  0  1  0]\n",
            " [ 0  0  0  0  0  0  0 42  0  0]\n",
            " [ 0  1  0  0  0  0  0  0 54  0]\n",
            " [ 0  0  0  0  0  0  0  1  2 59]]\n"
          ],
          "name": "stdout"
        }
      ]
    },
    {
      "metadata": {
        "id": "1zLryZ3jCU-N",
        "colab_type": "text"
      },
      "cell_type": "markdown",
      "source": [
        "##Gaussian or rbf Kernel"
      ]
    },
    {
      "metadata": {
        "id": "kNd6NHjLBDoN",
        "colab_type": "code",
        "colab": {}
      },
      "cell_type": "code",
      "source": [
        "obj=SVC(kernel='rbf')"
      ],
      "execution_count": 0,
      "outputs": []
    },
    {
      "metadata": {
        "id": "qtCrUITdBHAp",
        "colab_type": "code",
        "colab": {
          "base_uri": "https://localhost:8080/",
          "height": 92
        },
        "outputId": "a0dc17cd-7442-4925-e0db-aa03fcaba868"
      },
      "cell_type": "code",
      "source": [
        "obj.fit(x_train,y_train)"
      ],
      "execution_count": 27,
      "outputs": [
        {
          "output_type": "execute_result",
          "data": {
            "text/plain": [
              "SVC(C=1.0, cache_size=200, class_weight=None, coef0=0.0,\n",
              "  decision_function_shape='ovr', degree=3, gamma='auto', kernel='rbf',\n",
              "  max_iter=-1, probability=False, random_state=None, shrinking=True,\n",
              "  tol=0.001, verbose=False)"
            ]
          },
          "metadata": {
            "tags": []
          },
          "execution_count": 27
        }
      ]
    },
    {
      "metadata": {
        "id": "BQTZB1J-BJFH",
        "colab_type": "code",
        "colab": {}
      },
      "cell_type": "code",
      "source": [
        "predicted=obj.predict(x_test)"
      ],
      "execution_count": 0,
      "outputs": []
    },
    {
      "metadata": {
        "id": "kz2tkp8HBQL8",
        "colab_type": "code",
        "colab": {
          "base_uri": "https://localhost:8080/",
          "height": 206
        },
        "outputId": "e6bc027e-47e2-4d45-98e4-7a338d4e014e"
      },
      "cell_type": "code",
      "source": [
        "print(confusion_matrix(y_test,predicted))"
      ],
      "execution_count": 30,
      "outputs": [
        {
          "output_type": "stream",
          "text": [
            "[[25  0  0  0  0  0  0 24  0  0]\n",
            " [ 0 11  0  0  0  0  0 42  0  0]\n",
            " [ 0  0  5  0  0  0  0 55  0  0]\n",
            " [ 0  0  0  8  0  0  0 54  0  0]\n",
            " [ 0  0  0  0 17  0  0 42  0  0]\n",
            " [ 0  0  0  0  0 17  0 37  0  0]\n",
            " [ 0  0  0  0  0  0 28 16  0  0]\n",
            " [ 0  0  0  0  0  0  0 42  0  0]\n",
            " [ 0  0  0  0  0  0  0 54  1  0]\n",
            " [ 0  0  0  0  0  0  0 58  0  4]]\n"
          ],
          "name": "stdout"
        }
      ]
    },
    {
      "metadata": {
        "id": "KAb2YELBBYuM",
        "colab_type": "code",
        "colab": {
          "base_uri": "https://localhost:8080/",
          "height": 300
        },
        "outputId": "8633a9b3-72db-4b5a-aa1c-cb3fb0300977"
      },
      "cell_type": "code",
      "source": [
        "print(classification_report(y_test,predicted))"
      ],
      "execution_count": 31,
      "outputs": [
        {
          "output_type": "stream",
          "text": [
            "             precision    recall  f1-score   support\n",
            "\n",
            "          0       1.00      0.51      0.68        49\n",
            "          1       1.00      0.21      0.34        53\n",
            "          2       1.00      0.08      0.15        60\n",
            "          3       1.00      0.13      0.23        62\n",
            "          4       1.00      0.29      0.45        59\n",
            "          5       1.00      0.31      0.48        54\n",
            "          6       1.00      0.64      0.78        44\n",
            "          7       0.10      1.00      0.18        42\n",
            "          8       1.00      0.02      0.04        55\n",
            "          9       1.00      0.06      0.12        62\n",
            "\n",
            "avg / total       0.93      0.29      0.33       540\n",
            "\n"
          ],
          "name": "stdout"
        }
      ]
    },
    {
      "metadata": {
        "id": "McpbBNEGCdDf",
        "colab_type": "text"
      },
      "cell_type": "markdown",
      "source": [
        "##Sigmoid Kernel"
      ]
    },
    {
      "metadata": {
        "id": "Vv0Mv3f-BeL8",
        "colab_type": "code",
        "colab": {}
      },
      "cell_type": "code",
      "source": [
        "obj=SVC(kernel='sigmoid')"
      ],
      "execution_count": 0,
      "outputs": []
    },
    {
      "metadata": {
        "id": "20rsK-U5BljQ",
        "colab_type": "code",
        "colab": {
          "base_uri": "https://localhost:8080/",
          "height": 92
        },
        "outputId": "9faa7db5-2aca-46bb-deeb-f0690aa83ed8"
      },
      "cell_type": "code",
      "source": [
        "obj.fit(x_train,y_train)"
      ],
      "execution_count": 33,
      "outputs": [
        {
          "output_type": "execute_result",
          "data": {
            "text/plain": [
              "SVC(C=1.0, cache_size=200, class_weight=None, coef0=0.0,\n",
              "  decision_function_shape='ovr', degree=3, gamma='auto', kernel='sigmoid',\n",
              "  max_iter=-1, probability=False, random_state=None, shrinking=True,\n",
              "  tol=0.001, verbose=False)"
            ]
          },
          "metadata": {
            "tags": []
          },
          "execution_count": 33
        }
      ]
    },
    {
      "metadata": {
        "id": "lGaPmo_tBn6o",
        "colab_type": "code",
        "colab": {}
      },
      "cell_type": "code",
      "source": [
        "predicted=obj.predict(x_test)"
      ],
      "execution_count": 0,
      "outputs": []
    },
    {
      "metadata": {
        "id": "zV6pgpT7Brte",
        "colab_type": "code",
        "colab": {
          "base_uri": "https://localhost:8080/",
          "height": 206
        },
        "outputId": "99d24a20-9e13-459c-cbf1-961669635583"
      },
      "cell_type": "code",
      "source": [
        "print(confusion_matrix(y_test,predicted))"
      ],
      "execution_count": 35,
      "outputs": [
        {
          "output_type": "stream",
          "text": [
            "[[ 0  0  0  0  0  0  1 48  0  0]\n",
            " [ 0  0  0  0  0  0  0 53  0  0]\n",
            " [ 0  0  0  0  0  0  1 59  0  0]\n",
            " [ 0  0  0  0  0  0  0 62  0  0]\n",
            " [ 0  0  0  0  0  0  0 59  0  0]\n",
            " [ 0  0  0  0  0  0  0 54  0  0]\n",
            " [ 0  0  0  0  0  0  1 43  0  0]\n",
            " [ 0  0  0  0  0  0  1 41  0  0]\n",
            " [ 0  0  0  0  0  0  0 55  0  0]\n",
            " [ 0  0  0  0  0  0  0 62  0  0]]\n"
          ],
          "name": "stdout"
        }
      ]
    },
    {
      "metadata": {
        "id": "2jdNABR7Bwhq",
        "colab_type": "code",
        "colab": {
          "base_uri": "https://localhost:8080/",
          "height": 358
        },
        "outputId": "b34fcf8a-b9ee-4ed4-f32c-227b8bf7a8d6"
      },
      "cell_type": "code",
      "source": [
        "print(classification_report(y_test,predicted))"
      ],
      "execution_count": 37,
      "outputs": [
        {
          "output_type": "stream",
          "text": [
            "             precision    recall  f1-score   support\n",
            "\n",
            "          0       0.00      0.00      0.00        49\n",
            "          1       0.00      0.00      0.00        53\n",
            "          2       0.00      0.00      0.00        60\n",
            "          3       0.00      0.00      0.00        62\n",
            "          4       0.00      0.00      0.00        59\n",
            "          5       0.00      0.00      0.00        54\n",
            "          6       0.25      0.02      0.04        44\n",
            "          7       0.08      0.98      0.14        42\n",
            "          8       0.00      0.00      0.00        55\n",
            "          9       0.00      0.00      0.00        62\n",
            "\n",
            "avg / total       0.03      0.08      0.01       540\n",
            "\n"
          ],
          "name": "stdout"
        },
        {
          "output_type": "stream",
          "text": [
            "/usr/local/lib/python3.6/dist-packages/sklearn/metrics/classification.py:1135: UndefinedMetricWarning: Precision and F-score are ill-defined and being set to 0.0 in labels with no predicted samples.\n",
            "  'precision', 'predicted', average, warn_for)\n"
          ],
          "name": "stderr"
        }
      ]
    },
    {
      "metadata": {
        "id": "hxfGrkKDB08E",
        "colab_type": "code",
        "colab": {}
      },
      "cell_type": "code",
      "source": [
        ""
      ],
      "execution_count": 0,
      "outputs": []
    }
  ]
}