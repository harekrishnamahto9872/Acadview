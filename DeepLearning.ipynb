{
  "nbformat": 4,
  "nbformat_minor": 0,
  "metadata": {
    "colab": {
      "name": "Untitled25.ipynb",
      "version": "0.3.2",
      "provenance": [],
      "include_colab_link": true
    },
    "kernelspec": {
      "name": "python3",
      "display_name": "Python 3"
    }
  },
  "cells": [
    {
      "cell_type": "markdown",
      "metadata": {
        "id": "view-in-github",
        "colab_type": "text"
      },
      "source": [
        "[View in Colaboratory](https://colab.research.google.com/github/harekrishnamahto9872/Acadview/blob/master/DeepLearning.ipynb)"
      ]
    },
    {
      "metadata": {
        "id": "lQEYHHcnJhAR",
        "colab_type": "text"
      },
      "cell_type": "markdown",
      "source": [
        "##Question 1"
      ]
    },
    {
      "metadata": {
        "id": "HO4Q14HAJkYr",
        "colab_type": "code",
        "colab": {
          "base_uri": "https://localhost:8080/",
          "height": 36
        },
        "outputId": "a619f044-30b7-44a5-d315-e8302f8b4d44"
      },
      "cell_type": "code",
      "source": [
        "\"\"\" u=a*b\n",
        "v=a*c\n",
        "w=b+c\n",
        "f=u+v-w\n",
        "\n",
        "f=(a*b)+(a*c)-(b+c)\n",
        " =a(b+c)-(b+c)\n",
        " =(b+c)(a-1)\n",
        " \"\"\"\n",
        "print('F=(b+c)(a-1)')\n",
        "\n"
      ],
      "execution_count": 2,
      "outputs": [
        {
          "output_type": "stream",
          "text": [
            "F=(b+c)(a-1)\n"
          ],
          "name": "stdout"
        }
      ]
    },
    {
      "metadata": {
        "id": "x5FAGxjyKWmw",
        "colab_type": "text"
      },
      "cell_type": "markdown",
      "source": [
        "##Question 2"
      ]
    },
    {
      "metadata": {
        "id": "Eb6hL1RhKUDH",
        "colab_type": "code",
        "colab": {}
      },
      "cell_type": "code",
      "source": [
        "x=(-0.06)*(2.7)+(-2.5)*(-8.6)+(1.4)*(0.002)"
      ],
      "execution_count": 0,
      "outputs": []
    },
    {
      "metadata": {
        "id": "gMtl0aK1LfOW",
        "colab_type": "code",
        "colab": {
          "base_uri": "https://localhost:8080/",
          "height": 36
        },
        "outputId": "a1010ca8-d917-45b7-aa29-a1ff7e01bc05"
      },
      "cell_type": "code",
      "source": [
        "print(x)"
      ],
      "execution_count": 5,
      "outputs": [
        {
          "output_type": "stream",
          "text": [
            "21.3408\n"
          ],
          "name": "stdout"
        }
      ]
    },
    {
      "metadata": {
        "id": "xJ5AjMiiL0q9",
        "colab_type": "code",
        "colab": {}
      },
      "cell_type": "code",
      "source": [
        "import math"
      ],
      "execution_count": 0,
      "outputs": []
    },
    {
      "metadata": {
        "id": "hshBqv2DLwBI",
        "colab_type": "code",
        "colab": {}
      },
      "cell_type": "code",
      "source": [
        "f_of_x=1/(1+math.exp(-x))"
      ],
      "execution_count": 0,
      "outputs": []
    },
    {
      "metadata": {
        "id": "l9evx2L-L9-t",
        "colab_type": "code",
        "colab": {
          "base_uri": "https://localhost:8080/",
          "height": 36
        },
        "outputId": "09a953d4-a734-450e-ffaa-6a25ccef421b"
      },
      "cell_type": "code",
      "source": [
        "print(f_of_x)"
      ],
      "execution_count": 8,
      "outputs": [
        {
          "output_type": "stream",
          "text": [
            "0.9999999994607274\n"
          ],
          "name": "stdout"
        }
      ]
    },
    {
      "metadata": {
        "id": "DOj2KPJJMBQN",
        "colab_type": "code",
        "colab": {}
      },
      "cell_type": "code",
      "source": [
        "x_with_bias=x+-1.1"
      ],
      "execution_count": 0,
      "outputs": []
    },
    {
      "metadata": {
        "id": "Yvc_p-UwMKDO",
        "colab_type": "code",
        "colab": {
          "base_uri": "https://localhost:8080/",
          "height": 36
        },
        "outputId": "ad83ead9-9a77-468c-809a-1aa74c7945de"
      },
      "cell_type": "code",
      "source": [
        "print(x_with_bias)"
      ],
      "execution_count": 10,
      "outputs": [
        {
          "output_type": "stream",
          "text": [
            "20.2408\n"
          ],
          "name": "stdout"
        }
      ]
    },
    {
      "metadata": {
        "id": "JlFYgLt3ML2p",
        "colab_type": "code",
        "colab": {}
      },
      "cell_type": "code",
      "source": [
        "\n",
        "f_of_x_bias=1/(1+math.exp(-x_with_bias))"
      ],
      "execution_count": 0,
      "outputs": []
    },
    {
      "metadata": {
        "id": "6BlE9iZCMVe8",
        "colab_type": "code",
        "colab": {
          "base_uri": "https://localhost:8080/",
          "height": 36
        },
        "outputId": "77e4e81b-4960-45f7-91be-bd8db2f58ec8"
      },
      "cell_type": "code",
      "source": [
        "print(f_of_x_bias)"
      ],
      "execution_count": 12,
      "outputs": [
        {
          "output_type": "stream",
          "text": [
            "0.9999999983799357\n"
          ],
          "name": "stdout"
        }
      ]
    },
    {
      "metadata": {
        "id": "K6_W2NpzMcEk",
        "colab_type": "text"
      },
      "cell_type": "markdown",
      "source": [
        "##There is not much change in the value of f(x)"
      ]
    },
    {
      "metadata": {
        "id": "sm43WWeVNLoU",
        "colab_type": "text"
      },
      "cell_type": "markdown",
      "source": [
        "## Use of additional input, which is called bias, of neuron improves properties of the neuron. It allows moving the threshold of activation function. Use of bias increases calculations, because the additional weight have to be determined."
      ]
    },
    {
      "metadata": {
        "id": "lysssTa4MYWc",
        "colab_type": "code",
        "colab": {}
      },
      "cell_type": "code",
      "source": [
        ""
      ],
      "execution_count": 0,
      "outputs": []
    }
  ]
}