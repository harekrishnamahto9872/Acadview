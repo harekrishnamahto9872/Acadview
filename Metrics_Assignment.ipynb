{
  "nbformat": 4,
  "nbformat_minor": 0,
  "metadata": {
    "colab": {
      "name": "Untitled17.ipynb",
      "version": "0.3.2",
      "provenance": [],
      "include_colab_link": true
    },
    "kernelspec": {
      "name": "python3",
      "display_name": "Python 3"
    }
  },
  "cells": [
    {
      "cell_type": "markdown",
      "metadata": {
        "id": "view-in-github",
        "colab_type": "text"
      },
      "source": [
        "[View in Colaboratory](https://colab.research.google.com/github/harekrishnamahto9872/Acadview/blob/master/Metrics_Assignment.ipynb)"
      ]
    },
    {
      "metadata": {
        "id": "kv4HPx0IsDrI",
        "colab_type": "code",
        "colab": {}
      },
      "cell_type": "code",
      "source": [
        "import numpy as np\n",
        "import pandas as pd"
      ],
      "execution_count": 0,
      "outputs": []
    },
    {
      "metadata": {
        "id": "kYIZ2DYrsICr",
        "colab_type": "code",
        "colab": {}
      },
      "cell_type": "code",
      "source": [
        "from sklearn.datasets import load_digits"
      ],
      "execution_count": 0,
      "outputs": []
    },
    {
      "metadata": {
        "id": "agXDuxYqsR86",
        "colab_type": "code",
        "colab": {}
      },
      "cell_type": "code",
      "source": [
        "df=load_digits()"
      ],
      "execution_count": 0,
      "outputs": []
    },
    {
      "metadata": {
        "id": "aN1jCyOnsUBa",
        "colab_type": "code",
        "colab": {
          "base_uri": "https://localhost:8080/",
          "height": 149
        },
        "outputId": "ea0b223d-b693-4b9d-99ad-0ceb309cd759"
      },
      "cell_type": "code",
      "source": [
        "df.data"
      ],
      "execution_count": 7,
      "outputs": [
        {
          "output_type": "execute_result",
          "data": {
            "text/plain": [
              "array([[ 0.,  0.,  5., ...,  0.,  0.,  0.],\n",
              "       [ 0.,  0.,  0., ..., 10.,  0.,  0.],\n",
              "       [ 0.,  0.,  0., ..., 16.,  9.,  0.],\n",
              "       ...,\n",
              "       [ 0.,  0.,  1., ...,  6.,  0.,  0.],\n",
              "       [ 0.,  0.,  2., ..., 12.,  0.,  0.],\n",
              "       [ 0.,  0., 10., ..., 12.,  1.,  0.]])"
            ]
          },
          "metadata": {
            "tags": []
          },
          "execution_count": 7
        }
      ]
    },
    {
      "metadata": {
        "id": "Q8_Bkm-3sWAj",
        "colab_type": "code",
        "colab": {
          "base_uri": "https://localhost:8080/",
          "height": 36
        },
        "outputId": "dafc49a3-7311-40de-d08b-e6fe3537044c"
      },
      "cell_type": "code",
      "source": [
        "df.data.shape"
      ],
      "execution_count": 8,
      "outputs": [
        {
          "output_type": "execute_result",
          "data": {
            "text/plain": [
              "(1797, 64)"
            ]
          },
          "metadata": {
            "tags": []
          },
          "execution_count": 8
        }
      ]
    },
    {
      "metadata": {
        "id": "kbsA1MZJsik0",
        "colab_type": "code",
        "colab": {
          "base_uri": "https://localhost:8080/",
          "height": 36
        },
        "outputId": "0db36755-064d-43b2-9175-70b4e8e7be4d"
      },
      "cell_type": "code",
      "source": [
        "df.target"
      ],
      "execution_count": 10,
      "outputs": [
        {
          "output_type": "execute_result",
          "data": {
            "text/plain": [
              "array([0, 1, 2, ..., 8, 9, 8])"
            ]
          },
          "metadata": {
            "tags": []
          },
          "execution_count": 10
        }
      ]
    },
    {
      "metadata": {
        "id": "8BW3IjG9skhh",
        "colab_type": "code",
        "colab": {
          "base_uri": "https://localhost:8080/",
          "height": 111
        },
        "outputId": "0f0ccbce-8a12-41af-a5c0-b0a43c8e53d6"
      },
      "cell_type": "code",
      "source": [
        "df.data[0]"
      ],
      "execution_count": 11,
      "outputs": [
        {
          "output_type": "execute_result",
          "data": {
            "text/plain": [
              "array([ 0.,  0.,  5., 13.,  9.,  1.,  0.,  0.,  0.,  0., 13., 15., 10.,\n",
              "       15.,  5.,  0.,  0.,  3., 15.,  2.,  0., 11.,  8.,  0.,  0.,  4.,\n",
              "       12.,  0.,  0.,  8.,  8.,  0.,  0.,  5.,  8.,  0.,  0.,  9.,  8.,\n",
              "        0.,  0.,  4., 11.,  0.,  1., 12.,  7.,  0.,  0.,  2., 14.,  5.,\n",
              "       10., 12.,  0.,  0.,  0.,  0.,  6., 13., 10.,  0.,  0.,  0.])"
            ]
          },
          "metadata": {
            "tags": []
          },
          "execution_count": 11
        }
      ]
    },
    {
      "metadata": {
        "id": "pPIs6spvs2-O",
        "colab_type": "code",
        "colab": {
          "base_uri": "https://localhost:8080/",
          "height": 36
        },
        "outputId": "084b0fe7-8d9b-4a51-b917-c45ed8cdb66c"
      },
      "cell_type": "code",
      "source": [
        "df.target[0]"
      ],
      "execution_count": 12,
      "outputs": [
        {
          "output_type": "execute_result",
          "data": {
            "text/plain": [
              "0"
            ]
          },
          "metadata": {
            "tags": []
          },
          "execution_count": 12
        }
      ]
    },
    {
      "metadata": {
        "id": "8QBAQeS7tY8P",
        "colab_type": "code",
        "colab": {}
      },
      "cell_type": "code",
      "source": [
        "x=df.data"
      ],
      "execution_count": 0,
      "outputs": []
    },
    {
      "metadata": {
        "id": "8dyEE6HttgF1",
        "colab_type": "code",
        "colab": {}
      },
      "cell_type": "code",
      "source": [
        "y=df.target"
      ],
      "execution_count": 0,
      "outputs": []
    },
    {
      "metadata": {
        "id": "epUSTsF1thoF",
        "colab_type": "code",
        "colab": {
          "base_uri": "https://localhost:8080/",
          "height": 36
        },
        "outputId": "91f82321-6cf5-42be-ce33-252b48a5ac27"
      },
      "cell_type": "code",
      "source": [
        "type(x)"
      ],
      "execution_count": 15,
      "outputs": [
        {
          "output_type": "execute_result",
          "data": {
            "text/plain": [
              "numpy.ndarray"
            ]
          },
          "metadata": {
            "tags": []
          },
          "execution_count": 15
        }
      ]
    },
    {
      "metadata": {
        "id": "cvD7gEnftvVo",
        "colab_type": "code",
        "colab": {
          "base_uri": "https://localhost:8080/",
          "height": 36
        },
        "outputId": "e7064220-a387-4f19-cfc6-14b3d4f0de6c"
      },
      "cell_type": "code",
      "source": [
        "type(y)"
      ],
      "execution_count": 16,
      "outputs": [
        {
          "output_type": "execute_result",
          "data": {
            "text/plain": [
              "numpy.ndarray"
            ]
          },
          "metadata": {
            "tags": []
          },
          "execution_count": 16
        }
      ]
    },
    {
      "metadata": {
        "id": "hChTq70Kt0Pc",
        "colab_type": "code",
        "colab": {}
      },
      "cell_type": "code",
      "source": [
        "from sklearn import linear_model\n",
        "from sklearn.model_selection import train_test_split \n",
        "from sklearn import model_selection"
      ],
      "execution_count": 0,
      "outputs": []
    },
    {
      "metadata": {
        "id": "0G-iOHzG1x3T",
        "colab_type": "text"
      },
      "cell_type": "markdown",
      "source": [
        "##Splitting data into train and test variable"
      ]
    },
    {
      "metadata": {
        "id": "30vlIJkVuD9p",
        "colab_type": "code",
        "colab": {}
      },
      "cell_type": "code",
      "source": [
        "x_train,x_test,y_train,y_test=train_test_split(x,y,test_size=0.3)"
      ],
      "execution_count": 0,
      "outputs": []
    },
    {
      "metadata": {
        "id": "T24v9twoudhX",
        "colab_type": "code",
        "colab": {}
      },
      "cell_type": "code",
      "source": [
        "obj=linear_model.LogisticRegression()"
      ],
      "execution_count": 0,
      "outputs": []
    },
    {
      "metadata": {
        "id": "ba38drIq18mM",
        "colab_type": "text"
      },
      "cell_type": "markdown",
      "source": [
        "##Training our model on training data"
      ]
    },
    {
      "metadata": {
        "id": "1ldNZ6j4ukOX",
        "colab_type": "code",
        "colab": {
          "base_uri": "https://localhost:8080/",
          "height": 92
        },
        "outputId": "ee3935e7-a036-483a-a643-0a03a9d6efc2"
      },
      "cell_type": "code",
      "source": [
        "obj.fit(x_train,y_train)"
      ],
      "execution_count": 21,
      "outputs": [
        {
          "output_type": "execute_result",
          "data": {
            "text/plain": [
              "LogisticRegression(C=1.0, class_weight=None, dual=False, fit_intercept=True,\n",
              "          intercept_scaling=1, max_iter=100, multi_class='ovr', n_jobs=1,\n",
              "          penalty='l2', random_state=None, solver='liblinear', tol=0.0001,\n",
              "          verbose=0, warm_start=False)"
            ]
          },
          "metadata": {
            "tags": []
          },
          "execution_count": 21
        }
      ]
    },
    {
      "metadata": {
        "id": "PBm1Hy0O2BdO",
        "colab_type": "text"
      },
      "cell_type": "markdown",
      "source": [
        "##Making predictions"
      ]
    },
    {
      "metadata": {
        "id": "w8I1I8eSum7j",
        "colab_type": "code",
        "colab": {}
      },
      "cell_type": "code",
      "source": [
        "predicted=obj.predict(x_test)\n"
      ],
      "execution_count": 0,
      "outputs": []
    },
    {
      "metadata": {
        "id": "foaaQVn12E_7",
        "colab_type": "text"
      },
      "cell_type": "markdown",
      "source": [
        "##Printing score"
      ]
    },
    {
      "metadata": {
        "id": "p0iVrFr8ux--",
        "colab_type": "code",
        "colab": {
          "base_uri": "https://localhost:8080/",
          "height": 36
        },
        "outputId": "86298e2c-4c67-4e15-db6a-b23ed0103fad"
      },
      "cell_type": "code",
      "source": [
        "obj.score(x_test,y_test)"
      ],
      "execution_count": 33,
      "outputs": [
        {
          "output_type": "execute_result",
          "data": {
            "text/plain": [
              "0.9518518518518518"
            ]
          },
          "metadata": {
            "tags": []
          },
          "execution_count": 33
        }
      ]
    },
    {
      "metadata": {
        "id": "_LmlOGO4vs5M",
        "colab_type": "code",
        "colab": {}
      },
      "cell_type": "code",
      "source": [
        "import sklearn.metrics as met"
      ],
      "execution_count": 0,
      "outputs": []
    },
    {
      "metadata": {
        "id": "SyhXLcYVxvDO",
        "colab_type": "code",
        "colab": {}
      },
      "cell_type": "code",
      "source": [
        "prob=obj.predict_proba(x_test)"
      ],
      "execution_count": 0,
      "outputs": []
    },
    {
      "metadata": {
        "id": "ZsbaRtda2Jgc",
        "colab_type": "text"
      },
      "cell_type": "markdown",
      "source": [
        "##Printing log loss score"
      ]
    },
    {
      "metadata": {
        "id": "s4Q5A1Sbx213",
        "colab_type": "code",
        "colab": {}
      },
      "cell_type": "code",
      "source": [
        "result=met.log_loss(y_test,prob)"
      ],
      "execution_count": 0,
      "outputs": []
    },
    {
      "metadata": {
        "id": "0milsNxIyCq5",
        "colab_type": "code",
        "colab": {
          "base_uri": "https://localhost:8080/",
          "height": 36
        },
        "outputId": "11e73669-8cbb-4d90-9021-0da13e3acdac"
      },
      "cell_type": "code",
      "source": [
        "print(result)"
      ],
      "execution_count": 50,
      "outputs": [
        {
          "output_type": "stream",
          "text": [
            "0.26338134201320706\n"
          ],
          "name": "stdout"
        }
      ]
    },
    {
      "metadata": {
        "id": "LNq4np8_2OEt",
        "colab_type": "text"
      },
      "cell_type": "markdown",
      "source": [
        "##Printing Accuracy score"
      ]
    },
    {
      "metadata": {
        "id": "time4-Q7yGel",
        "colab_type": "code",
        "colab": {}
      },
      "cell_type": "code",
      "source": [
        "result=met.accuracy_score(y_test,predicted)"
      ],
      "execution_count": 0,
      "outputs": []
    },
    {
      "metadata": {
        "id": "pPrV0PaIySfL",
        "colab_type": "code",
        "colab": {
          "base_uri": "https://localhost:8080/",
          "height": 36
        },
        "outputId": "d797b489-1a00-4d0d-94f9-c8a1924cd6e3"
      },
      "cell_type": "code",
      "source": [
        "print(result)"
      ],
      "execution_count": 52,
      "outputs": [
        {
          "output_type": "stream",
          "text": [
            "0.9518518518518518\n"
          ],
          "name": "stdout"
        }
      ]
    },
    {
      "metadata": {
        "id": "f9Rt5RK_2Swm",
        "colab_type": "text"
      },
      "cell_type": "markdown",
      "source": [
        "##Printing R2 score"
      ]
    },
    {
      "metadata": {
        "id": "crXi2AifyXiV",
        "colab_type": "code",
        "colab": {}
      },
      "cell_type": "code",
      "source": [
        "result=met.r2_score(y_test,predicted)"
      ],
      "execution_count": 0,
      "outputs": []
    },
    {
      "metadata": {
        "id": "Qq8iAGRS0vtl",
        "colab_type": "code",
        "colab": {
          "base_uri": "https://localhost:8080/",
          "height": 36
        },
        "outputId": "e62357dd-71e8-46c0-afe8-0e25e9b1fbe2"
      },
      "cell_type": "code",
      "source": [
        "print(result)"
      ],
      "execution_count": 54,
      "outputs": [
        {
          "output_type": "stream",
          "text": [
            "0.8683867179855176\n"
          ],
          "name": "stdout"
        }
      ]
    },
    {
      "metadata": {
        "id": "Kso6f5et2ZsQ",
        "colab_type": "text"
      },
      "cell_type": "markdown",
      "source": [
        "##Printing Mean Absolute Error"
      ]
    },
    {
      "metadata": {
        "id": "6FeO8xGo0xQP",
        "colab_type": "code",
        "colab": {}
      },
      "cell_type": "code",
      "source": [
        "result=met.mean_absolute_error(y_test,predicted)"
      ],
      "execution_count": 0,
      "outputs": []
    },
    {
      "metadata": {
        "id": "dLrLyhir05FD",
        "colab_type": "code",
        "colab": {
          "base_uri": "https://localhost:8080/",
          "height": 36
        },
        "outputId": "cbb9b1d7-3274-45f4-e820-e8e226d106c3"
      },
      "cell_type": "code",
      "source": [
        "print(result)"
      ],
      "execution_count": 56,
      "outputs": [
        {
          "output_type": "stream",
          "text": [
            "0.1962962962962963\n"
          ],
          "name": "stdout"
        }
      ]
    },
    {
      "metadata": {
        "id": "52kpDvWC2ejj",
        "colab_type": "text"
      },
      "cell_type": "markdown",
      "source": [
        "##Printing Mean Squared Error"
      ]
    },
    {
      "metadata": {
        "id": "UvixcHH306j5",
        "colab_type": "code",
        "colab": {}
      },
      "cell_type": "code",
      "source": [
        "result=met.mean_squared_error(y_test,predicted)"
      ],
      "execution_count": 0,
      "outputs": []
    },
    {
      "metadata": {
        "id": "AGxyVxft1Enh",
        "colab_type": "code",
        "colab": {
          "base_uri": "https://localhost:8080/",
          "height": 36
        },
        "outputId": "7190aad0-d8cb-489b-8132-849d752371b8"
      },
      "cell_type": "code",
      "source": [
        "print(result)"
      ],
      "execution_count": 58,
      "outputs": [
        {
          "output_type": "stream",
          "text": [
            "0.9962962962962963\n"
          ],
          "name": "stdout"
        }
      ]
    },
    {
      "metadata": {
        "id": "yzTt4CBn2irR",
        "colab_type": "text"
      },
      "cell_type": "markdown",
      "source": [
        "##Printing Confusion Matrix"
      ]
    },
    {
      "metadata": {
        "id": "hOS7Alvm1GXR",
        "colab_type": "code",
        "colab": {}
      },
      "cell_type": "code",
      "source": [
        "matrix=met.confusion_matrix(y_test,predicted)"
      ],
      "execution_count": 0,
      "outputs": []
    },
    {
      "metadata": {
        "id": "TUZ4vBUw1QyZ",
        "colab_type": "code",
        "colab": {
          "base_uri": "https://localhost:8080/",
          "height": 206
        },
        "outputId": "968648aa-3d93-4005-a064-7ac29e7585ae"
      },
      "cell_type": "code",
      "source": [
        "print(matrix)"
      ],
      "execution_count": 60,
      "outputs": [
        {
          "output_type": "stream",
          "text": [
            "[[49  0  0  0  0  0  0  0  0  0]\n",
            " [ 0 55  0  0  0  0  0  0  2  1]\n",
            " [ 0  0 62  1  0  0  0  0  0  0]\n",
            " [ 0  0  0 47  0  1  1  0  4  1]\n",
            " [ 0  1  0  0 57  0  0  0  0  3]\n",
            " [ 0  0  0  0  0 60  0  0  0  2]\n",
            " [ 0  0  0  0  1  0 52  0  0  0]\n",
            " [ 0  0  0  0  0  0  0 51  0  1]\n",
            " [ 0  1  0  1  0  1  0  0 41  2]\n",
            " [ 0  0  0  0  0  1  0  0  1 40]]\n"
          ],
          "name": "stdout"
        }
      ]
    },
    {
      "metadata": {
        "id": "mAZmg5842nTU",
        "colab_type": "text"
      },
      "cell_type": "markdown",
      "source": [
        "##Printing Classification report"
      ]
    },
    {
      "metadata": {
        "id": "cekqdqwr1Sv6",
        "colab_type": "code",
        "colab": {}
      },
      "cell_type": "code",
      "source": [
        "report=met.classification_report(y_test,predicted)"
      ],
      "execution_count": 0,
      "outputs": []
    },
    {
      "metadata": {
        "id": "zHQsyekg1nk9",
        "colab_type": "code",
        "colab": {
          "base_uri": "https://localhost:8080/",
          "height": 300
        },
        "outputId": "682ea185-2f7e-49fd-c87a-d9ccde6272a3"
      },
      "cell_type": "code",
      "source": [
        "print(report)"
      ],
      "execution_count": 62,
      "outputs": [
        {
          "output_type": "stream",
          "text": [
            "             precision    recall  f1-score   support\n",
            "\n",
            "          0       1.00      1.00      1.00        49\n",
            "          1       0.96      0.95      0.96        58\n",
            "          2       1.00      0.98      0.99        63\n",
            "          3       0.96      0.87      0.91        54\n",
            "          4       0.98      0.93      0.96        61\n",
            "          5       0.95      0.97      0.96        62\n",
            "          6       0.98      0.98      0.98        53\n",
            "          7       1.00      0.98      0.99        52\n",
            "          8       0.85      0.89      0.87        46\n",
            "          9       0.80      0.95      0.87        42\n",
            "\n",
            "avg / total       0.95      0.95      0.95       540\n",
            "\n"
          ],
          "name": "stdout"
        }
      ]
    },
    {
      "metadata": {
        "id": "bJ-0uVah1pUl",
        "colab_type": "code",
        "colab": {}
      },
      "cell_type": "code",
      "source": [
        ""
      ],
      "execution_count": 0,
      "outputs": []
    }
  ]
}