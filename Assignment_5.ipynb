{
  "nbformat": 4,
  "nbformat_minor": 0,
  "metadata": {
    "colab": {
      "name": "Untitled7.ipynb",
      "version": "0.3.2",
      "provenance": []
    },
    "kernelspec": {
      "name": "python3",
      "display_name": "Python 3"
    }
  },
  "cells": [
    {
      "cell_type": "markdown",
      "metadata": {
        "id": "view-in-github",
        "colab_type": "text"
      },
      "source": [
        "[View in Colaboratory](https://colab.research.google.com/github/harekrishnamahto9872/Acadview/blob/master/Assignment_5.ipynb)"
      ]
    },
    {
      "metadata": {
        "id": "Uo5tzePHKX8n",
        "colab_type": "code",
        "colab": {}
      },
      "cell_type": "code",
      "source": [
        "##ASSIGNMENT 5\n",
        "\n",
        "#Ques 1\n",
        "\n",
        "import pandas as pd"
      ],
      "execution_count": 0,
      "outputs": []
    },
    {
      "metadata": {
        "id": "7mdiMXwYKgHl",
        "colab_type": "code",
        "colab": {}
      },
      "cell_type": "code",
      "source": [
        "df=pd.read_csv('https://raw.githubusercontent.com/Shreyas3108/Weather/master/weather.csv')"
      ],
      "execution_count": 0,
      "outputs": []
    },
    {
      "metadata": {
        "id": "I_tvQTaHKpEP",
        "colab_type": "code",
        "colab": {
          "base_uri": "https://localhost:8080/",
          "height": 489
        },
        "outputId": "260bdb08-cf8c-467b-d03d-9a2b7890da60"
      },
      "cell_type": "code",
      "source": [
        "df.isnull().sum()\n"
      ],
      "execution_count": 18,
      "outputs": [
        {
          "output_type": "execute_result",
          "data": {
            "text/plain": [
              "Date             0\n",
              "Location         0\n",
              "MinTemp          0\n",
              "MaxTemp          0\n",
              "Rainfall         0\n",
              "Evaporation      0\n",
              "Sunshine         0\n",
              "WindGustDir      0\n",
              "WindGustSpeed    0\n",
              "WindDir9am       0\n",
              "WindDir3pm       0\n",
              "WindSpeed9am     0\n",
              "WindSpeed3pm     0\n",
              "Humidity9am      0\n",
              "Humidity3pm      0\n",
              "Pressure9am      0\n",
              "Pressure3pm      0\n",
              "Cloud9am         0\n",
              "Cloud3pm         0\n",
              "Temp9am          0\n",
              "Temp3pm          0\n",
              "RainToday        0\n",
              "RISK_MM          0\n",
              "RainTomorrow     0\n",
              "dtype: int64"
            ]
          },
          "metadata": {
            "tags": []
          },
          "execution_count": 18
        }
      ]
    },
    {
      "metadata": {
        "id": "eJBHarSNKqEA",
        "colab_type": "code",
        "colab": {
          "base_uri": "https://localhost:8080/",
          "height": 489
        },
        "outputId": "ef6dfac3-b00e-48d2-c5b1-4cb3b4287018"
      },
      "cell_type": "code",
      "source": [
        "df.dropna(inplace=True)\n",
        "df.isnull().sum()"
      ],
      "execution_count": 11,
      "outputs": [
        {
          "output_type": "execute_result",
          "data": {
            "text/plain": [
              "Date             0\n",
              "Location         0\n",
              "MinTemp          0\n",
              "MaxTemp          0\n",
              "Rainfall         0\n",
              "Evaporation      0\n",
              "Sunshine         0\n",
              "WindGustDir      0\n",
              "WindGustSpeed    0\n",
              "WindDir9am       0\n",
              "WindDir3pm       0\n",
              "WindSpeed9am     0\n",
              "WindSpeed3pm     0\n",
              "Humidity9am      0\n",
              "Humidity3pm      0\n",
              "Pressure9am      0\n",
              "Pressure3pm      0\n",
              "Cloud9am         0\n",
              "Cloud3pm         0\n",
              "Temp9am          0\n",
              "Temp3pm          0\n",
              "RainToday        0\n",
              "RISK_MM          0\n",
              "RainTomorrow     0\n",
              "dtype: int64"
            ]
          },
          "metadata": {
            "tags": []
          },
          "execution_count": 11
        }
      ]
    },
    {
      "metadata": {
        "id": "wB7jC0N6XRJk",
        "colab_type": "code",
        "colab": {}
      },
      "cell_type": "code",
      "source": [
        "df2=pd.read_csv('https://raw.githubusercontent.com/Shreyas3108/Weather/master/weather.csv')"
      ],
      "execution_count": 0,
      "outputs": []
    },
    {
      "metadata": {
        "id": "B2OyMGmyXXSZ",
        "colab_type": "code",
        "colab": {}
      },
      "cell_type": "code",
      "source": [
        "df2.fillna(df2.mean(),inplace=True)"
      ],
      "execution_count": 0,
      "outputs": []
    },
    {
      "metadata": {
        "id": "yCk_gKVQYCSM",
        "colab_type": "code",
        "colab": {
          "base_uri": "https://localhost:8080/",
          "height": 564
        },
        "outputId": "39cde593-301f-497a-929c-10a0a628cd8f"
      },
      "cell_type": "code",
      "source": [
        "df2.info()"
      ],
      "execution_count": 14,
      "outputs": [
        {
          "output_type": "stream",
          "text": [
            "<class 'pandas.core.frame.DataFrame'>\n",
            "RangeIndex: 366 entries, 0 to 365\n",
            "Data columns (total 24 columns):\n",
            "Date             366 non-null object\n",
            "Location         366 non-null object\n",
            "MinTemp          366 non-null float64\n",
            "MaxTemp          366 non-null float64\n",
            "Rainfall         366 non-null float64\n",
            "Evaporation      366 non-null float64\n",
            "Sunshine         366 non-null float64\n",
            "WindGustDir      363 non-null object\n",
            "WindGustSpeed    366 non-null float64\n",
            "WindDir9am       335 non-null object\n",
            "WindDir3pm       365 non-null object\n",
            "WindSpeed9am     366 non-null float64\n",
            "WindSpeed3pm     366 non-null int64\n",
            "Humidity9am      366 non-null int64\n",
            "Humidity3pm      366 non-null int64\n",
            "Pressure9am      366 non-null float64\n",
            "Pressure3pm      366 non-null float64\n",
            "Cloud9am         366 non-null int64\n",
            "Cloud3pm         366 non-null int64\n",
            "Temp9am          366 non-null float64\n",
            "Temp3pm          366 non-null float64\n",
            "RainToday        366 non-null object\n",
            "RISK_MM          366 non-null float64\n",
            "RainTomorrow     366 non-null object\n",
            "dtypes: float64(12), int64(5), object(7)\n",
            "memory usage: 68.7+ KB\n"
          ],
          "name": "stdout"
        }
      ]
    },
    {
      "metadata": {
        "id": "ca8qg28Ab2ar",
        "colab_type": "code",
        "colab": {}
      },
      "cell_type": "code",
      "source": [
        "temp=df2['MaxTemp']"
      ],
      "execution_count": 0,
      "outputs": []
    },
    {
      "metadata": {
        "id": "ofWBUvPUcNjb",
        "colab_type": "code",
        "colab": {
          "base_uri": "https://localhost:8080/",
          "height": 1187
        },
        "outputId": "8690f1b5-a0cc-4c40-8011-25797c841b54"
      },
      "cell_type": "code",
      "source": [
        "temp"
      ],
      "execution_count": 20,
      "outputs": [
        {
          "output_type": "execute_result",
          "data": {
            "text/plain": [
              "0      24.3\n",
              "1      26.9\n",
              "2      23.4\n",
              "3      15.5\n",
              "4      16.1\n",
              "5      16.9\n",
              "6      18.2\n",
              "7      17.0\n",
              "8      19.5\n",
              "9      22.8\n",
              "10     25.2\n",
              "11     27.3\n",
              "12     27.9\n",
              "13     30.9\n",
              "14     31.2\n",
              "15     32.1\n",
              "16     31.2\n",
              "17     30.0\n",
              "18     32.3\n",
              "19     33.4\n",
              "20     33.4\n",
              "21     19.4\n",
              "22     18.5\n",
              "23     24.3\n",
              "24     28.4\n",
              "25     26.9\n",
              "26     22.2\n",
              "27     28.0\n",
              "28     24.3\n",
              "29     24.1\n",
              "       ... \n",
              "336    27.6\n",
              "337    28.9\n",
              "338    20.7\n",
              "339    21.3\n",
              "340    18.0\n",
              "341    16.0\n",
              "342    17.9\n",
              "343    20.0\n",
              "344    22.0\n",
              "345    22.4\n",
              "346    23.9\n",
              "347    26.1\n",
              "348    21.1\n",
              "349    19.6\n",
              "350    21.0\n",
              "351    24.1\n",
              "352    24.7\n",
              "353    28.5\n",
              "354    27.4\n",
              "355    20.6\n",
              "356    15.0\n",
              "357    18.0\n",
              "358    20.7\n",
              "359    25.5\n",
              "360    26.1\n",
              "361    30.7\n",
              "362    28.4\n",
              "363    19.9\n",
              "364    26.9\n",
              "365    30.2\n",
              "Name: MaxTemp, Length: 366, dtype: float64"
            ]
          },
          "metadata": {
            "tags": []
          },
          "execution_count": 20
        }
      ]
    },
    {
      "metadata": {
        "id": "g9fooeuRcOwU",
        "colab_type": "code",
        "colab": {}
      },
      "cell_type": "code",
      "source": [
        ""
      ],
      "execution_count": 0,
      "outputs": []
    }
  ]
}